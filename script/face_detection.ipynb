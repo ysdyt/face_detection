{
 "cells": [
  {
   "cell_type": "code",
   "execution_count": 3,
   "metadata": {
    "ExecuteTime": {
     "end_time": "2017-04-13T18:18:09.386268",
     "start_time": "2017-04-13T18:18:08.030719"
    },
    "collapsed": true
   },
   "outputs": [],
   "source": [
    "%matplotlib inline\n",
    "\n",
    "import numpy as np\n",
    "import cv2\n",
    "import matplotlib.pyplot as plt\n",
    "import copy\n",
    "import glob\n",
    "import os\n",
    "import re"
   ]
  },
  {
   "cell_type": "markdown",
   "metadata": {},
   "source": [
    "## Auxiliary function"
   ]
  },
  {
   "cell_type": "code",
   "execution_count": 4,
   "metadata": {
    "ExecuteTime": {
     "end_time": "2017-04-13T18:18:10.329406",
     "start_time": "2017-04-13T18:18:10.292538"
    },
    "collapsed": false
   },
   "outputs": [],
   "source": [
    "def face_detect(img):\n",
    "    '''\n",
    "    入力された画像に対して顔検出を行って検出座標を返す。\n",
    "    '''\n",
    "    gray = cv2.cvtColor(img, cv2.COLOR_BGR2GRAY)\n",
    "\n",
    "    facerect = faceCascade.detectMultiScale(\n",
    "        gray,\n",
    "        scaleFactor=1.1,\n",
    "        minNeighbors=1,\n",
    "        minSize=(1, 1)\n",
    "    )\n",
    "    return facerect\n",
    "\n",
    "\n",
    "def get_filenumbr(img_path):\n",
    "    '''\n",
    "    ファイル名は ****.JPG （*は桁数問わずの数字だけ）となっていることが前提\n",
    "    '''\n",
    "    file_name = os.path.basename(img_path)\n",
    "    number = re.match(\"\\d*\",file_name)\n",
    "    number = number.group()\n",
    "    return number\n",
    "\n",
    "\n",
    "def save_cropped_face(img,facerect,number,save_dir):\n",
    "    '''\n",
    "    入力画像、顔検出の座標、入力画像のファイル番号、処理済みの画像の保存パスを引数にとる。\n",
    "    顔検出の座標でクロッピングした画像を保存先パスに保存する。\n",
    "    '''\n",
    "    rgb_img = cv2.cvtColor(img, cv2.COLOR_BGR2RGB)\n",
    "    \n",
    "    if len(facerect) > 0:\n",
    "    #検出した顔を囲む矩形の作成\n",
    "        for rect in facerect:\n",
    "            x = rect[0]\n",
    "            y = rect[1]\n",
    "            w = rect[2]\n",
    "            h = rect[3]\n",
    "            #plt.imshow(cv2.rectangle(rgb_img,(x,y),(x+w,y+h),(0,255,0), thickness=2)) #矩形の左上の座標と、右下の座標を指定する\n",
    "            cropped_img = rgb_img[y:y+h,x:x+w]\n",
    "            #plt.imshow(cropped_img)\n",
    "            \n",
    "            save_file = os.path.join(save_dir,'{}_cropped.jpg'.format(number))\n",
    "            cv2.imwrite(save_file,cv2.cvtColor(cropped_img, cv2.COLOR_BGR2RGB)) #cv2で保存する時にまたbgrに変換されてしまうので戻す\n",
    "    else:\n",
    "        return 'something wrong'"
   ]
  },
  {
   "cell_type": "markdown",
   "metadata": {},
   "source": [
    "## main"
   ]
  },
  {
   "cell_type": "code",
   "execution_count": 5,
   "metadata": {
    "ExecuteTime": {
     "end_time": "2017-04-13T18:18:13.278298",
     "start_time": "2017-04-13T18:18:11.481021"
    },
    "collapsed": false
   },
   "outputs": [],
   "source": [
    "# 顔検出に使う特徴量ファイルの指定\n",
    "cascPath = '../data/haarcascade_frontalface_default.xml'\n",
    "faceCascade = cv2.CascadeClassifier(cascPath)\n",
    "\n",
    "image_dir = './../data/as/all_resized_300*225/*'\n",
    "save_dir = '../data/as/all_cropped_face_img/'\n",
    "\n",
    "for img_path in glob.glob(image_dir):\n",
    "    img = cv2.imread(img_path)\n",
    "\n",
    "    facerect = face_detect(img)\n",
    "    number = get_filenumbr(img_path)\n",
    "\n",
    "    save_cropped_face(img,facerect,number,save_dir)\n",
    "\n",
    "    #print facerect\n",
    "    #print number"
   ]
  },
  {
   "cell_type": "code",
   "execution_count": null,
   "metadata": {
    "collapsed": true
   },
   "outputs": [],
   "source": []
  }
 ],
 "metadata": {
  "anaconda-cloud": {},
  "kernelspec": {
   "display_name": "Python [Root]",
   "language": "python",
   "name": "Python [Root]"
  },
  "language_info": {
   "codemirror_mode": {
    "name": "ipython",
    "version": 2
   },
   "file_extension": ".py",
   "mimetype": "text/x-python",
   "name": "python",
   "nbconvert_exporter": "python",
   "pygments_lexer": "ipython2",
   "version": "2.7.11"
  }
 },
 "nbformat": 4,
 "nbformat_minor": 0
}
